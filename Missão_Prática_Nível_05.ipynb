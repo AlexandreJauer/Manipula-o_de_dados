{
  "nbformat": 4,
  "nbformat_minor": 0,
  "metadata": {
    "colab": {
      "provenance": [],
      "authorship_tag": "ABX9TyMJpjfx32AH+GRJMUpE2OA4",
      "include_colab_link": true
    },
    "kernelspec": {
      "name": "python3",
      "display_name": "Python 3"
    },
    "language_info": {
      "name": "python"
    }
  },
  "cells": [
    {
      "cell_type": "markdown",
      "metadata": {
        "id": "view-in-github",
        "colab_type": "text"
      },
      "source": [
        "<a href=\"https://colab.research.google.com/github/AlexandreJauer/Manipula-o_de_dados/blob/main/Miss%C3%A3o_Pr%C3%A1tica_N%C3%ADvel_05.ipynb\" target=\"_parent\"><img src=\"https://colab.research.google.com/assets/colab-badge.svg\" alt=\"Open In Colab\"/></a>"
      ]
    },
    {
      "cell_type": "markdown",
      "source": [
        "\n",
        "<center><img src = \"https://logodownload.org/wp-content/uploads/2014/12/estacio-logo-faculdade-4.jpg\" width = \"400px\"/>\n",
        "\n",
        "####UNIVERSIDADE ESTÁCIO DE SÁ\n",
        "&ensp;\n",
        "## Desenvolvimento Full Stack\n",
        "&ensp;\n",
        "# Colocando tudo em ordem e guardando\n",
        "&ensp;\n",
        "#### Mundo 1 - Turma 2022.3\n",
        "&ensp;\n",
        "#### Alexandre Holz Jauer\n",
        "\n",
        "\n",
        "\n"
      ],
      "metadata": {
        "id": "rF1yeDdsr5o7"
      }
    },
    {
      "cell_type": "markdown",
      "source": [
        "# Objetivo da pratica:\n",
        "Usando a linguagem Python, será realizada a implementação de um programa para geração de dados fakes (nomes de pessoas \n",
        "seguindas de uma pontuação).\n",
        "Os dados serão gravados em um arquivo texto(.txt), para posterior recuperação e manipulado. As pontuações geradas para cada nome fake deste arquivo serão exibidas em um histograma e em uma nuvem de palavaras.\n",
        "\n",
        "    "
      ],
      "metadata": {
        "id": "aSFxup--JIB3"
      }
    },
    {
      "cell_type": "markdown",
      "source": [
        "# Códigos executados nesta prática:\n"
      ],
      "metadata": {
        "id": "sbNchrlJJLGt"
      }
    },
    {
      "cell_type": "code",
      "source": [
        "!pip install faker\n",
        "!pip install num2words\n",
        "!pip install wordcloud"
      ],
      "metadata": {
        "id": "6sAGqL15jTcX"
      },
      "execution_count": null,
      "outputs": []
    },
    {
      "cell_type": "markdown",
      "source": [
        "### Geração dos nomes e notas faker:\n"
      ],
      "metadata": {
        "id": "y0S2Kb7fsDWm"
      }
    },
    {
      "cell_type": "code",
      "source": [
        "\n",
        "from faker import Faker\n",
        "import matplotlib.pyplot as plt\n",
        "fk = Faker()\n",
        "dados=[]\n",
        "var=[]\n",
        "\n",
        "with open('arquivo.txt', 'w+') as file:\n",
        "    for dados in range(10):\n",
        "        vari = fk.name(),fk.random_int(1,15)\n",
        "        var.append(vari)\n",
        "    for vari in var:\n",
        "        file.write(f'{vari}\\n')\n",
        "\n",
        "for line in open('arquivo.txt'):\n",
        "    print(line)"
      ],
      "metadata": {
        "id": "PIEOZmOatZUz",
        "colab": {
          "base_uri": "https://localhost:8080/"
        },
        "outputId": "b496646a-8383-45a4-ad49-ea0ecc7b6285"
      },
      "execution_count": null,
      "outputs": [
        {
          "output_type": "stream",
          "name": "stdout",
          "text": [
            "('Jamie Davis', 7)\n",
            "\n",
            "('Russell Adams', 14)\n",
            "\n",
            "('Melinda Powers', 2)\n",
            "\n",
            "('Sara Hall', 14)\n",
            "\n",
            "('Lori Miranda', 11)\n",
            "\n",
            "('William Jones', 9)\n",
            "\n",
            "('Ryan Welch', 6)\n",
            "\n",
            "('Brian Hess', 3)\n",
            "\n",
            "('Calvin Macdonald', 6)\n",
            "\n",
            "('Faith Benitez', 8)\n",
            "\n"
          ]
        }
      ]
    },
    {
      "cell_type": "markdown",
      "source": [
        "### Recuperação apenas das notas do arquivo.txt:"
      ],
      "metadata": {
        "id": "uW8yIPnhs3yf"
      }
    },
    {
      "cell_type": "code",
      "source": [
        "import re\n",
        "h = open('arquivo.txt', 'r')\n",
        "conteudo = h.readlines()\n",
        "notas = []\n",
        "\n",
        "outra_lista = re.findall('\\d+',str(conteudo))\n",
        "for item in outra_lista:\n",
        "    notas.append(int(item))\n",
        "print(notas)"
      ],
      "metadata": {
        "id": "l7alPrSTlJ_o",
        "colab": {
          "base_uri": "https://localhost:8080/"
        },
        "outputId": "dff84cb7-1c40-40e7-a01b-47ab0dae1237"
      },
      "execution_count": null,
      "outputs": [
        {
          "output_type": "stream",
          "name": "stdout",
          "text": [
            "[7, 14, 2, 14, 11, 9, 6, 3, 6, 8]\n"
          ]
        }
      ]
    },
    {
      "cell_type": "markdown",
      "source": [
        "### Geração do gráfico em forma de Histograma:"
      ],
      "metadata": {
        "id": "oPAkShnTtwLv"
      }
    },
    {
      "cell_type": "code",
      "source": [
        "n_bins=30; plt.hist(notas, n_bins,density=True, facecolor='blue', alpha=1)\n",
        "\n",
        "plt.xlabel('Valores')\n",
        "plt.ylabel('Probabilidade')\n",
        "plt.title('Histrograma dos Valores')\n",
        "plt.grid(True)\n",
        "plt.show()"
      ],
      "metadata": {
        "id": "azkP63hmfjVo",
        "colab": {
          "base_uri": "https://localhost:8080/",
          "height": 295
        },
        "outputId": "7d81d97b-c50e-4b50-e2a3-57166d8f8bab"
      },
      "execution_count": null,
      "outputs": [
        {
          "output_type": "display_data",
          "data": {
            "text/plain": [
              "<Figure size 432x288 with 1 Axes>"
            ],
            "image/png": "[encoded data removed]"
          },
          "metadata": {
            "needs_background": "light"
          }
        }
      ]
    },
    {
      "cell_type": "markdown",
      "source": [
        "### Visualização das notas em uma nuvem de palavras:"
      ],
      "metadata": {
        "id": "U-DHeQ-buT2A"
      }
    },
    {
      "cell_type": "code",
      "source": [
        "#Conversão de numeros para extenso:\n",
        "from num2words import num2words\n",
        "from wordcloud import WordCloud\n",
        "\n",
        "nova_lista = []\n",
        "for i in notas:\n",
        "    nova_lista.append(num2words(i, lang='pt_BR'))\n",
        "print(nova_lista)\n",
        "\n",
        "#nuvem de palavras:\n",
        "variavel = \" \".join(p for p in nova_lista)\n",
        "nuvem = WordCloud(background_color='grey', width=900,height=500).generate(variavel)\n",
        "plt.imshow(nuvem, interpolation='bilinear')\n",
        "plt.axis(\"off\")\n",
        "nuvem.to_file(\"Nuvem de palavras.png\")\n",
        "  "
      ],
      "metadata": {
        "colab": {
          "base_uri": "https://localhost:8080/",
          "height": 252
        },
        "id": "HDr6k424iXVI",
        "outputId": "3523f58e-cc46-48bc-af74-c78b540693ae"
      },
      "execution_count": null,
      "outputs": [
        {
          "output_type": "stream",
          "name": "stdout",
          "text": [
            "['sete', 'catorze', 'dois', 'catorze', 'onze', 'nove', 'seis', 'três', 'seis', 'oito']\n"
          ]
        },
        {
          "output_type": "execute_result",
          "data": {
            "text/plain": [
              "<wordcloud.wordcloud.WordCloud at 0x7f7e9249dad0>"
            ]
          },
          "metadata": {},
          "execution_count": 45
        },
        {
          "output_type": "display_data",
          "data": {
            "text/plain": [
              "<Figure size 432x288 with 1 Axes>"
            ],
            "image/png": "[encoded data removed]"
          },
          "metadata": {
            "needs_background": "light"
          }
        }
      ]
    },
    {
      "cell_type": "markdown",
      "source": [
        "# Analise e Conclusão:\n"
      ],
      "metadata": {
        "id": "kv7o1QfpPqg8"
      }
    },
    {
      "cell_type": "markdown",
      "source": [
        "Leitura e escrita de arquivos de texto na programação é muito útil, seja para servir como arquivo de configurações e evitar a necessidade de modificação frequente do código fonte do próprio programa para cada cenário ou simplesmente para servir para entrada e saída de dados. Outra informação importante é que o armazenamento de dados em variáveis ou vetores é temporário, ou seja, ao terminar o programa os dados deixam de existir, já que eles residem na memória principal, porém ao utilizarmos a geração de arquivos de texto para esse fim estaremos gravando esses dados permanentemente em memórias secundárias para posterior tratamento destas informações.\n",
        "\n",
        "Entre inúmeros tratamento que podemos realizar com esses arquivos de texto, podemos destacar a visualização de dados em histogramas. O histograma é uma importante ferramenta utilizada para análise estatística de um volumoso grupo de dados. Quando temos esse elevado número de dados, analisá-los através de tabelas pode não ser o método mais exato para essa atividade. O gráfico, por ser uma ferramenta visual, facilita essa mensuração, além disso, o histograma pode agrupar esses numeros por classes, facilitando o acompanhamento estatístico de grandes volumes de dados.\n",
        "\n",
        "\n",
        "Outro tratamento que pode ser feito com esses arquivos, através da linguagem de programação Python, é a visualização de um arquivo em forma de nuvem de palavras. Esse método consiste em exibir a frequência com que as palavras aparecem em um determinado texto, quanto mais frequente a palavra apareça no texto, maior será o tamanho dela na nuvem, a qual pode ser organizada em vários formatos: linhas verticais, horizontais, linhas, colunas dentre outras formas.\n"
      ],
      "metadata": {
        "id": "mdNF1CyjS8sp"
      }
    }
  ]
}